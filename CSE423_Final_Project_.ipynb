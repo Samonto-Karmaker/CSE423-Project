{
  "nbformat": 4,
  "nbformat_minor": 0,
  "metadata": {
    "colab": {
      "provenance": [],
      "include_colab_link": true
    },
    "kernelspec": {
      "name": "python3",
      "display_name": "Python 3"
    },
    "language_info": {
      "name": "python"
    },
    "accelerator": "GPU"
  },
  "cells": [
    {
      "cell_type": "markdown",
      "metadata": {
        "id": "view-in-github",
        "colab_type": "text"
      },
      "source": [
        "<a href=\"https://colab.research.google.com/github/Samonto-Karmaker/CSE423-Project/blob/main/CSE423_Final_Project_.ipynb\" target=\"_parent\"><img src=\"https://colab.research.google.com/assets/colab-badge.svg\" alt=\"Open In Colab\"/></a>"
      ]
    },
    {
      "cell_type": "code",
      "source": [
        "!pip install -q lucid>=0.2.3"
      ],
      "metadata": {
        "id": "L3y0yGFYiWRI"
      },
      "execution_count": null,
      "outputs": []
    },
    {
      "cell_type": "code",
      "source": [
        "import numpy as np\n",
        "\n",
        "import ctypes.util\n",
        "from lucid.misc.gl.glcontext import create_opengl_context\n",
        "\n",
        "# Now it's safe to import OpenGL and EGL functions\n",
        "import OpenGL.GL as gl\n",
        "from OpenGL.GLU import *\n",
        "\n",
        "# create_opengl_context() creates GL context that is attached to an\n",
        "# offscreen surface of specified size. Note that rendering to buffers\n",
        "# of different size and format is still possible with OpenGL Framebuffers.\n",
        "#\n",
        "# Users are expected to directly use EGL calls in case more advanced\n",
        "# context management is required.\n",
        "WIDTH, HEIGHT = 800,600\n",
        "create_opengl_context((WIDTH, HEIGHT))\n",
        "    \n",
        "# OpenGL context is available here.\n",
        "\n",
        "print(gl.glGetString(gl.GL_VERSION))\n",
        "print(gl.glGetString(gl.GL_VENDOR)) \n",
        "#print(gl.glGetString(gl.GL_EXTENSIONS))"
      ],
      "metadata": {
        "id": "YXv13t34XX7o",
        "colab": {
          "base_uri": "https://localhost:8080/"
        },
        "outputId": "6919cea3-0d0b-45b7-b3d5-ae57352c1433"
      },
      "execution_count": null,
      "outputs": [
        {
          "output_type": "stream",
          "name": "stdout",
          "text": [
            "b'4.6.0 NVIDIA 460.32.03'\n",
            "b'NVIDIA Corporation'\n"
          ]
        }
      ]
    },
    {
      "cell_type": "markdown",
      "source": [
        "Project Code Starts:"
      ],
      "metadata": {
        "id": "F_TDxtDGvQmV"
      }
    },
    {
      "cell_type": "code",
      "source": [
        "#To draw each pixel\n",
        "def addPixal(a, b):\n",
        "  gl.glBegin(gl.GL_POINTS)\n",
        "  gl.glVertex2f(a / (WIDTH / 2), b / (HEIGHT / 2))\n",
        "  gl.glEnd()"
      ],
      "metadata": {
        "id": "DCkxauf5qqGZ"
      },
      "execution_count": null,
      "outputs": []
    },
    {
      "cell_type": "code",
      "source": [
        "#Background\n",
        "import random\n",
        "def stars(starCount = 50):\n",
        "  j = starCount\n",
        "  for i in range(starCount):\n",
        "    n = j % (i + 1)\n",
        "    if n == 4 or n == 6 or n == 8:\n",
        "      gl.glPointSize(n)\n",
        "    else:\n",
        "      gl.glPointSize((n % 3) + 2)\n",
        "    gl.glColor3f(i / j, 0.5, 0.25)\n",
        "    x = random.randint(-400, 400)\n",
        "    y = random.randint(-300, 300)\n",
        "    addPixal(x, y)\n",
        "    j -= 1"
      ],
      "metadata": {
        "id": "iEfi0zSGrCq4"
      },
      "execution_count": null,
      "outputs": []
    },
    {
      "cell_type": "markdown",
      "source": [
        "Line Drawing"
      ],
      "metadata": {
        "id": "vRHhLTaivHf8"
      }
    },
    {
      "cell_type": "code",
      "source": [
        "# Zone Identifier\n",
        "def zoneId(s, f):\n",
        "  x = (f[0] - s[0])\n",
        "  y = (f[1] - s[1])\n",
        "  if x >= 0 and y >= 0:\n",
        "    if x > y:\n",
        "      return 0\n",
        "    else:\n",
        "      return 1\n",
        "  elif x < 0 and y >= 0:\n",
        "    if abs(x) > y:\n",
        "      return 3\n",
        "    else:\n",
        "      return 2\n",
        "  elif x < 0 and y < 0:\n",
        "    if abs(x) > abs(y):\n",
        "      return 4\n",
        "    else:\n",
        "      return 5\n",
        "  elif x >= 0 and y < 0:\n",
        "    if x > abs(y):\n",
        "      return 7\n",
        "    else:\n",
        "      return 6\n",
        "    "
      ],
      "metadata": {
        "id": "9G9CNQeovBDO"
      },
      "execution_count": null,
      "outputs": []
    },
    {
      "cell_type": "code",
      "source": [
        "# Zone 0 => the given zone\n",
        "def zoneConvertFromZero(x, y, zone):\n",
        "\n",
        "  if zone == 1 or zone == 2 or zone == 5 or zone == 6:\n",
        "    x, y = y, x\n",
        "  \n",
        "  if zone == 2 or zone == 3 or zone == 4 or zone == 5:\n",
        "    x = -x\n",
        "  \n",
        "  if zone == 4 or zone == 5 or zone == 6 or zone == 7:\n",
        "    y = -y\n",
        "\n",
        "  return [x, y]"
      ],
      "metadata": {
        "id": "eEljGz6JvX55"
      },
      "execution_count": null,
      "outputs": []
    },
    {
      "cell_type": "code",
      "source": [
        "# Zone 0 <= the given zone\n",
        "def zoneConvertToZero(x, y, zone):\n",
        "\n",
        "  if zone == 2 or zone == 3 or zone == 4 or zone == 5:\n",
        "    x = -x\n",
        "  \n",
        "  if zone == 4 or zone == 5 or zone == 6 or zone == 7:\n",
        "    y = -y\n",
        "\n",
        "  if zone == 1 or zone == 2 or zone == 5 or zone == 6:\n",
        "    x, y = y, x\n",
        "\n",
        "  return [x, y]"
      ],
      "metadata": {
        "id": "JxOoVHU7vck2"
      },
      "execution_count": null,
      "outputs": []
    },
    {
      "cell_type": "code",
      "source": [
        "# Mid Point Line Algorithm\n",
        "def midPointLineAlgo(s, f):\n",
        "\n",
        "  z = zoneId(s, f)\n",
        "  if z != 0:\n",
        "    s = zoneConvertToZero(s[0], s[1], z)\n",
        "    f = zoneConvertToZero(f[0], f[1], z)\n",
        "  \n",
        "  dx = f[0] - s[0]\n",
        "  dy = f[1] - s[1]\n",
        "  d = 2 * dy - dx\n",
        "  dE = 2 * dy\n",
        "  dNE = 2 * (dy - dx)\n",
        "\n",
        "  y = s[1]\n",
        "  x = s[0]\n",
        "  while x <= f[0]:\n",
        "\n",
        "    if z != 0:\n",
        "      op = zoneConvertFromZero(x, y, z)\n",
        "      addPixal(op[0], op[1])\n",
        "    else:\n",
        "      addPixal(x, y)\n",
        "\n",
        "    if d > 0:\n",
        "      d += dNE\n",
        "      y += 1\n",
        "    else:\n",
        "      d += dE\n",
        "\n",
        "    x += 1"
      ],
      "metadata": {
        "id": "ABmQjyd0wWb5"
      },
      "execution_count": null,
      "outputs": []
    },
    {
      "cell_type": "code",
      "source": [
        "# To rotate the axis\n",
        "import math\n",
        "def rotation(x, y, thita):\n",
        "  a = math.cos(math.radians(thita))\n",
        "  b = math.sin(math.radians(thita))\n",
        "\n",
        "  r = np.array([[a, -b, 0],\n",
        "             [b, a, 0],\n",
        "             [0, 0, 1]])\n",
        "  p = np.array([[x],\n",
        "                 [y],\n",
        "                 [1]])\n",
        "  rp = np.matmul(r, p)\n",
        "\n",
        "  return [rp[0][0], rp[1][0]]\n"
      ],
      "metadata": {
        "id": "8zpuhxMO6pcX"
      },
      "execution_count": null,
      "outputs": []
    },
    {
      "cell_type": "markdown",
      "source": [
        "Circle Drawing"
      ],
      "metadata": {
        "id": "7y9HP1ivwnQG"
      }
    },
    {
      "cell_type": "code",
      "source": [
        "# Zone 1 => the given zone\n",
        "def zoneConvertFromOne(x, y, zone):\n",
        "\n",
        "  if zone == 1:\n",
        "    return [x, y]\n",
        "\n",
        "  if zone == 0 or zone == 3 or zone == 4 or zone == 7:\n",
        "    x, y = y, x\n",
        "  \n",
        "  if zone == 2 or zone == 3 or zone == 4 or zone == 5:\n",
        "    x = -x\n",
        "  \n",
        "  if zone == 4 or zone == 5 or zone == 6 or zone == 7:\n",
        "    y = -y\n",
        "\n",
        "  return [x, y]"
      ],
      "metadata": {
        "id": "1U98tO_jw0Q5"
      },
      "execution_count": null,
      "outputs": []
    },
    {
      "cell_type": "code",
      "source": [
        "#Translation for circle\n",
        "def translater(x, y, c):\n",
        "  s = np.array([[1, 0, c[0]],\n",
        "             [0, 1, c[1]],\n",
        "             [0, 0, 1]])\n",
        "  p = np.array([[x],\n",
        "                 [y],\n",
        "                 [1]])\n",
        "  tp = np.matmul(s, p)\n",
        "\n",
        "  return tp[0][0], tp[1][0]"
      ],
      "metadata": {
        "id": "WuhJSMym3vHk"
      },
      "execution_count": null,
      "outputs": []
    },
    {
      "cell_type": "code",
      "source": [
        "#To draw 8 points simultanously\n",
        "def draw(x, y, c):\n",
        "  for i in range(8):\n",
        "    p = zoneConvertFromOne(x, y, i)\n",
        "    ps = translater(p[0], p[1], c)\n",
        "    addPixal(ps[0], ps[1])"
      ],
      "metadata": {
        "id": "G4OnXQ0C4A9I"
      },
      "execution_count": null,
      "outputs": []
    },
    {
      "cell_type": "code",
      "source": [
        "# Scaling\n",
        "def scaling(x, y, sc):\n",
        "  s = np.array([[sc, 0, 0],\n",
        "             [0, sc, 0],\n",
        "             [0, 0, 1]])\n",
        "  p = np.array([[x],\n",
        "                 [y],\n",
        "                 [1]])\n",
        "  sp = np.matmul(s, p)\n",
        "\n",
        "  return sp[0][0], sp[1][0]\n",
        "  "
      ],
      "metadata": {
        "id": "j-yTo4jl93Un"
      },
      "execution_count": null,
      "outputs": []
    },
    {
      "cell_type": "code",
      "source": [
        "# Mid Point Circle Algorithm\n",
        "def midPointCircleAlgo(r, c, isEarth, sc):\n",
        "  t = 0\n",
        "  if not isEarth:\n",
        "    t, r = scaling(t, r, 10)\n",
        "  if isEarth:\n",
        "    t, r = scaling(t, r, sc)\n",
        "\n",
        "  x = 0\n",
        "  y = r\n",
        "  d = 1 - r\n",
        "  dE = 3\n",
        "  dSE = (-2 * r) + 5\n",
        "\n",
        "  draw(x, y, c)\n",
        "\n",
        "  while y >= x:\n",
        "    if d <= 0:\n",
        "      d += dE\n",
        "      dSE += 2\n",
        "    else:\n",
        "      d += dSE\n",
        "      dSE += 4\n",
        "      y -= 1\n",
        "    dE += 2\n",
        "    x += 1\n",
        "    draw(x, y, c)"
      ],
      "metadata": {
        "id": "EczfPk5u4lr0"
      },
      "execution_count": null,
      "outputs": []
    },
    {
      "cell_type": "markdown",
      "source": [
        "Draw the solar system"
      ],
      "metadata": {
        "id": "h4H7K_pACMe0"
      }
    },
    {
      "cell_type": "code",
      "source": [
        "def draw_path(p1, p2, thita):\n",
        "  gl.glColor3f(1, 0, 1)\n",
        "  p1 = rotation(p1[0], p1[1], thita)\n",
        "  p2 = rotation(p2[0], p2[1], thita)\n",
        "  midPointLineAlgo(p1, p2)"
      ],
      "metadata": {
        "id": "2JJWRhRl535Z"
      },
      "execution_count": null,
      "outputs": []
    },
    {
      "cell_type": "code",
      "source": [
        "def draw_axis(p1, p2, c):\n",
        "  gl.glColor3f(1, 1, 1)\n",
        "  p1 = scaling(p1[0], p1[1], 0.75)\n",
        "  p2 = scaling(p2[0], p2[1], 0.75)\n",
        "\n",
        "  p1 = rotation(p1[0], p1[1], 90)\n",
        "  p2 = rotation(p2[0], p2[1], 90)\n",
        "  \n",
        "  p1 = translater(p1[0], p1[1], c)\n",
        "  p2 = translater(p2[0], p2[1], c)\n",
        "\n",
        "  midPointLineAlgo(p1, p2)"
      ],
      "metadata": {
        "id": "BuAQT0jR6mhA"
      },
      "execution_count": null,
      "outputs": []
    },
    {
      "cell_type": "code",
      "source": [
        "#Function to color the Sun\n",
        "def color_sun(r):\n",
        "  i=0\n",
        "  while i<=r:\n",
        "    midPointCircleAlgo(i, [0, 0], False, 1)\n",
        "    i+=0.1\n",
        "    "
      ],
      "metadata": {
        "id": "qWgNTfKUDblv"
      },
      "execution_count": null,
      "outputs": []
    },
    {
      "cell_type": "code",
      "source": [
        "#Function to color the Earth\n",
        "def earth_bightness(day):\n",
        "  if day==90:\n",
        "    return  gl.glColor3f(0,0, 0)\n",
        "\n",
        "  elif 57<day<90 :\n",
        "    a= 0.5- (day-57)/68\n",
        "    b= 1- (2*(day-57))/68\n",
        "    c= 1- (2*(day-57))/68\n",
        "\n",
        "    return gl.glColor3f(a,b, c)\n",
        "\n",
        "  elif 90<day<125:\n",
        "    a= (day-90)/68\n",
        "    b= (2*(day-90))/68\n",
        "    c= (2*(day-90))/68\n",
        "\n",
        "    return gl.glColor3f(a,b, c)\n",
        "\n",
        "  else:\n",
        "    return gl.glColor3f(.5, 1, 1)"
      ],
      "metadata": {
        "id": "kR90HMMBIA95"
      },
      "execution_count": null,
      "outputs": []
    },
    {
      "cell_type": "code",
      "source": [
        "def draw_sun(r):\n",
        "  gl.glColor3f(1, 1, 0)\n",
        "  midPointCircleAlgo(r, [0, 0], False, 1)\n",
        "  color_sun(r) #colored the sun"
      ],
      "metadata": {
        "id": "KvmpZa7xCpBT"
      },
      "execution_count": null,
      "outputs": []
    },
    {
      "cell_type": "code",
      "source": [
        "def positionOfEarth(day, path_len):\n",
        "  #center of the earth\n",
        "  c = [-(path_len // 2), 0]\n",
        "  offset = path_len // (364 / 2)\n",
        "\n",
        "  if day < (364 / 2):\n",
        "    for i in range(day):\n",
        "      c[0] += offset\n",
        "  else:\n",
        "    c = [(path_len // 2), 0]\n",
        "    for i in range(day - (364 // 2)):\n",
        "      c[0] -= offset\n",
        "  \n",
        "  return c\n"
      ],
      "metadata": {
        "id": "iknVWJeSDqbI"
      },
      "execution_count": null,
      "outputs": []
    },
    {
      "cell_type": "code",
      "source": [
        "def scaleOfEarth(position, path_len):\n",
        "  sc = 5\n",
        "  distance = abs(int(position[0]))\n",
        "  offset = ((5 - 1) / (path_len / 2))\n",
        "  for i in range(distance):\n",
        "    sc -= offset\n",
        "  return sc\n"
      ],
      "metadata": {
        "id": "D7DeXSKNUtT1"
      },
      "execution_count": null,
      "outputs": []
    },
    {
      "cell_type": "code",
      "source": [
        "def draw_earth(day, path_len, earth_r, thita):\n",
        "  earth_bightness(day)\n",
        "  c = positionOfEarth(day, path_len)\n",
        "  sc = scaleOfEarth(c, path_len)\n",
        "  c = rotation(c[0], c[1], thita)\n",
        "  i=0\n",
        "  while i<=earth_r:\n",
        "    midPointCircleAlgo(i, c, True, sc)\n",
        "    i+=0.1"
      ],
      "metadata": {
        "id": "686aeOc9SA6U"
      },
      "execution_count": null,
      "outputs": []
    },
    {
      "cell_type": "markdown",
      "source": [
        "Date Calculation"
      ],
      "metadata": {
        "id": "nDvWAW400coH"
      }
    },
    {
      "cell_type": "code",
      "source": [
        "from datetime import datetime\n",
        "def date2day(d):\n",
        "  given_date = datetime.strptime(d, \"%b %d %Y\")\n",
        "  ref_date = datetime.strptime(\"Jan 01 2022\", \"%b %d %Y\")\n",
        "  day = given_date - ref_date\n",
        "  print(day.days)\n",
        "  return day.days"
      ],
      "metadata": {
        "id": "kB2ZHThc0hZZ"
      },
      "execution_count": null,
      "outputs": []
    },
    {
      "cell_type": "markdown",
      "source": [
        "Putting it all together"
      ],
      "metadata": {
        "id": "lEj_O9Iv7xfN"
      }
    },
    {
      "cell_type": "code",
      "source": [
        "def path_len_cal(p1, p2):\n",
        "  return int(((p1[0] - p2[0]) ** 2) + ((p1[1] - p2[1]) ** 2)) ** (1 / 2)"
      ],
      "metadata": {
        "id": "d42npSPo9RBy"
      },
      "execution_count": null,
      "outputs": []
    },
    {
      "cell_type": "code",
      "source": [
        "def draw_solar_system(date, p1, p2, r = 10, thita = 0):\n",
        "  day = date2day(date)\n",
        "  path_len = path_len_cal(p1, p2)\n",
        "  c = positionOfEarth(day, path_len)\n",
        "  if day < (365 / 2):\n",
        "    draw_sun(r)\n",
        "    draw_path(p1, p2, thita)\n",
        "    draw_axis(p1, p2, c)\n",
        "    draw_earth(day, path_len, r, thita)\n",
        "  elif day >= (365 / 2):\n",
        "    draw_path(p1, p2, thita)\n",
        "    draw_axis(p1, p2, c)\n",
        "    draw_earth(day, path_len, r, thita)\n",
        "    draw_sun(r)"
      ],
      "metadata": {
        "id": "IHn5CHKV73Jb"
      },
      "execution_count": null,
      "outputs": []
    },
    {
      "cell_type": "code",
      "source": [
        "# Let's render something!\n",
        "gl.glClear(gl.GL_COLOR_BUFFER_BIT)\n",
        "\n",
        "stars()\n",
        "\n",
        "gl.glColor3f(1, 1, 1)\n",
        "\n",
        "date = input(\"Enter date(format:Dec 10): \")\n",
        "date = date + \" 2022\"\n",
        "#thita = input(\"Enter angle: \")\n",
        "r = input(\"Enter the Earth's radius: \")\n",
        "\n",
        "draw_solar_system(date, [-364, 0], [364, 0], int(r))"
      ],
      "metadata": {
        "id": "ANi7Wf-hbL9Y",
        "colab": {
          "base_uri": "https://localhost:8080/"
        },
        "outputId": "a3a147ba-c912-440d-9211-5a74bf772a75"
      },
      "execution_count": null,
      "outputs": [
        {
          "output_type": "stream",
          "name": "stdout",
          "text": [
            "Enter date(format:Dec 10): Jul 26\n",
            "Enter the Earth's radius: 10\n",
            "206\n"
          ]
        }
      ]
    },
    {
      "cell_type": "code",
      "source": [
        "from IPython.display import display\n",
        "from PIL import Image\n",
        "\n",
        "img_buf = gl.glReadPixelsub(0, 0, WIDTH, HEIGHT, gl.GL_RGB, gl.GL_UNSIGNED_BYTE)\n",
        "img = np.frombuffer(img_buf,np.uint8).reshape(HEIGHT, WIDTH, 3)[::-1]\n",
        "display(Image.fromarray(img,'RGB'))"
      ],
      "metadata": {
        "colab": {
          "base_uri": "https://localhost:8080/",
          "height": 617
        },
        "id": "e6JCjyDMyE75",
        "outputId": "7c474a83-3d75-40da-8c7e-bfb8f2a97df8"
      },
      "execution_count": null,
      "outputs": [
        {
          "output_type": "display_data",
          "data": {
            "text/plain": [
              "<PIL.Image.Image image mode=RGB size=800x600 at 0x7F19DF508520>"
            ],
            "image/png": "[encoded data removed]"
          },
          "metadata": {}
        }
      ]
    },
    {
      "cell_type": "code",
      "source": [],
      "metadata": {
        "id": "evjH-3l5fE3w"
      },
      "execution_count": null,
      "outputs": []
    }
  ]
}